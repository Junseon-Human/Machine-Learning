{
 "cells": [
  {
   "cell_type": "code",
   "execution_count": 18,
   "id": "3a04578b",
   "metadata": {},
   "outputs": [
    {
     "name": "stdout",
     "output_type": "stream",
     "text": [
      "MSE :1.1186823858768293\n"
     ]
    }
   ],
   "source": [
    "from sklearn.datasets import fetch_california_housing\n",
    "from sklearn.model_selection import train_test_split\n",
    "from sklearn.neighbors import KNeighborsRegressor\n",
    "from sklearn.metrics import mean_squared_error\n",
    "\n",
    "# 캘리포니아 집값 데이터셋 로드\n",
    "california_housing = fetch_california_housing()\n",
    "\n",
    "X = california_housing.data\n",
    "y = california_housing.target\n",
    "\n",
    "X_train, X_test, y_train, y_test = train_test_split(\n",
    "    X, y, test_size=0.2, random_state=42\n",
    ")\n",
    "\n",
    "knn = KNeighborsRegressor(n_neighbors=5, weights=\"uniform\", algorithm=\"auto\")\n",
    "\n",
    "knn.fit(X_train, y_train)\n",
    "\n",
    "y_pred = knn.predict(X_test)\n",
    "\n",
    "mse = mean_squared_error(y_test, y_pred)\n",
    "print(f\"MSE :{mse}\")"
   ]
  },
  {
   "cell_type": "markdown",
   "id": "39fae813",
   "metadata": {},
   "source": [
    "## GridSearch() 로 최적 파라미터 선택"
   ]
  },
  {
   "cell_type": "code",
   "execution_count": 17,
   "id": "b1f2b371",
   "metadata": {},
   "outputs": [
    {
     "name": "stdout",
     "output_type": "stream",
     "text": [
      "best params {'algorithm': 'brute', 'n_neighbors': 7, 'weights': 'distance'}\n",
      "MSE : 1.0690185813569677\n"
     ]
    }
   ],
   "source": [
    "from sklearn.model_selection import GridSearchCV\n",
    "from sklearn.preprocessing import StandardScaler\n",
    "\n",
    "knn = KNeighborsRegressor()\n",
    "\n",
    "param_grid = {\n",
    "    \"n_neighbors\": [3, 5, 7],\n",
    "    \"weights\": [\"uniform\", \"distance\"],\n",
    "    \"algorithm\": [\"auto\", \"ball_tree\", \"kd_tree\", \"brute\"],\n",
    "}\n",
    "\n",
    "grid_search = GridSearchCV(knn, param_grid, cv=5)\n",
    "\n",
    "# 데이터 표준화를 수행했더니 훨씬좋아짐\n",
    "# scaler = StandardScaler()\n",
    "# X_train = scaler.fit_transform(X_train)\n",
    "# X_test = scaler.transform(X_test)\n",
    "\n",
    "grid_search.fit(X_train, y_train)\n",
    "\n",
    "best_model = grid_search.best_estimator_\n",
    "\n",
    "best_params = grid_search.best_params_\n",
    "print(f\"best params {best_params}\")\n",
    "\n",
    "y_pred = best_model.predict(X_test)\n",
    "mse = mean_squared_error(y_test, y_pred)\n",
    "print(f\"MSE : {mse}\")"
   ]
  },
  {
   "cell_type": "code",
   "execution_count": 5,
   "id": "fa7a71ce",
   "metadata": {},
   "outputs": [
    {
     "name": "stdout",
     "output_type": "stream",
     "text": [
      "Params: {'n_neighbors': 3, 'weights': 'uniform', 'algorithm': 'auto'} → MSE: 1.1694\n",
      "Params: {'n_neighbors': 3, 'weights': 'uniform', 'algorithm': 'ball_tree'} → MSE: 1.1694\n",
      "Params: {'n_neighbors': 3, 'weights': 'uniform', 'algorithm': 'kd_tree'} → MSE: 1.1694\n",
      "Params: {'n_neighbors': 3, 'weights': 'uniform', 'algorithm': 'brute'} → MSE: 1.1694\n",
      "Params: {'n_neighbors': 3, 'weights': 'distance', 'algorithm': 'auto'} → MSE: 1.1443\n",
      "Params: {'n_neighbors': 3, 'weights': 'distance', 'algorithm': 'ball_tree'} → MSE: 1.1443\n",
      "Params: {'n_neighbors': 3, 'weights': 'distance', 'algorithm': 'kd_tree'} → MSE: 1.1443\n",
      "Params: {'n_neighbors': 3, 'weights': 'distance', 'algorithm': 'brute'} → MSE: 1.1443\n",
      "Params: {'n_neighbors': 5, 'weights': 'uniform', 'algorithm': 'auto'} → MSE: 1.1187\n",
      "Params: {'n_neighbors': 5, 'weights': 'uniform', 'algorithm': 'ball_tree'} → MSE: 1.1187\n",
      "Params: {'n_neighbors': 5, 'weights': 'uniform', 'algorithm': 'kd_tree'} → MSE: 1.1187\n",
      "Params: {'n_neighbors': 5, 'weights': 'uniform', 'algorithm': 'brute'} → MSE: 1.1187\n",
      "Params: {'n_neighbors': 5, 'weights': 'distance', 'algorithm': 'auto'} → MSE: 1.0853\n",
      "Params: {'n_neighbors': 5, 'weights': 'distance', 'algorithm': 'ball_tree'} → MSE: 1.0853\n",
      "Params: {'n_neighbors': 5, 'weights': 'distance', 'algorithm': 'kd_tree'} → MSE: 1.0853\n",
      "Params: {'n_neighbors': 5, 'weights': 'distance', 'algorithm': 'brute'} → MSE: 1.0853\n",
      "Params: {'n_neighbors': 7, 'weights': 'uniform', 'algorithm': 'auto'} → MSE: 1.1045\n",
      "Params: {'n_neighbors': 7, 'weights': 'uniform', 'algorithm': 'ball_tree'} → MSE: 1.1045\n",
      "Params: {'n_neighbors': 7, 'weights': 'uniform', 'algorithm': 'kd_tree'} → MSE: 1.1045\n",
      "Params: {'n_neighbors': 7, 'weights': 'uniform', 'algorithm': 'brute'} → MSE: 1.1045\n",
      "Params: {'n_neighbors': 7, 'weights': 'distance', 'algorithm': 'auto'} → MSE: 1.0690\n",
      "Params: {'n_neighbors': 7, 'weights': 'distance', 'algorithm': 'ball_tree'} → MSE: 1.0690\n",
      "Params: {'n_neighbors': 7, 'weights': 'distance', 'algorithm': 'kd_tree'} → MSE: 1.0690\n",
      "Params: {'n_neighbors': 7, 'weights': 'distance', 'algorithm': 'brute'} → MSE: 1.0690\n"
     ]
    }
   ],
   "source": [
    "from itertools import product\n",
    "from sklearn.neighbors import KNeighborsRegressor\n",
    "from sklearn.metrics import mean_squared_error\n",
    "\n",
    "# 하이퍼파라미터 그리드 정의\n",
    "param_grid = {\n",
    "    \"n_neighbors\": [3, 5, 7],\n",
    "    \"weights\": [\"uniform\", \"distance\"],\n",
    "    \"algorithm\": [\"auto\", \"ball_tree\", \"kd_tree\", \"brute\"],\n",
    "}\n",
    "\n",
    "# 키 목록\n",
    "keys = param_grid.keys()\n",
    "\n",
    "# 모든 파라미터 조합 생성\n",
    "for values in product(*param_grid.values()):\n",
    "    params = dict(zip(keys, values))  # 딕셔너리로 변환\n",
    "\n",
    "    # 모델 생성 및 학습\n",
    "    knn = KNeighborsRegressor(**params)\n",
    "    knn.fit(X_train, y_train)\n",
    "    y_pred = knn.predict(X_test)\n",
    "\n",
    "    # MSE 계산\n",
    "    mse = mean_squared_error(y_test, y_pred)\n",
    "\n",
    "    # 결과 출력\n",
    "    print(f\"Params: {params} → MSE: {mse:.4f}\")"
   ]
  },
  {
   "cell_type": "code",
   "execution_count": 19,
   "id": "41a65508",
   "metadata": {},
   "outputs": [
    {
     "name": "stdout",
     "output_type": "stream",
     "text": [
      "Best Parameters: {'alpha': 10, 'solver': 'auto'}\n",
      "Test MSE: 0.5550405537342997\n"
     ]
    }
   ],
   "source": [
    "from sklearn.linear_model import Ridge\n",
    "\n",
    "# 3. Ridge 회귀 모델 정의\n",
    "ridge = Ridge()\n",
    "\n",
    "# 4. 하이퍼파라미터 설정 (그리드 서치용)\n",
    "param_grid = {\n",
    "    \"alpha\": [0.01, 0.1, 1, 10, 100],\n",
    "    \"solver\": [\"auto\", \"svd\", \"cholesky\", \"lsqr\"],\n",
    "}\n",
    "\n",
    "# 5. 그리드 서치\n",
    "grid = GridSearchCV(\n",
    "    estimator=ridge,\n",
    "    param_grid=param_grid,\n",
    "    cv=5,\n",
    ")\n",
    "\n",
    "# 6. 학습\n",
    "grid.fit(X_train, y_train)\n",
    "\n",
    "# 7. 평가\n",
    "best_model = grid.best_estimator_\n",
    "y_pred = best_model.predict(X_test)\n",
    "mse = mean_squared_error(y_test, y_pred)\n",
    "\n",
    "# 8. 결과 출력\n",
    "print(\"Best Parameters:\", grid.best_params_)\n",
    "print(\"Test MSE:\", mse)"
   ]
  }
 ],
 "metadata": {
  "kernelspec": {
   "display_name": "openai_api_part1",
   "language": "python",
   "name": "python3"
  },
  "language_info": {
   "codemirror_mode": {
    "name": "ipython",
    "version": 3
   },
   "file_extension": ".py",
   "mimetype": "text/x-python",
   "name": "python",
   "nbconvert_exporter": "python",
   "pygments_lexer": "ipython3",
   "version": "3.12.3"
  }
 },
 "nbformat": 4,
 "nbformat_minor": 5
}
