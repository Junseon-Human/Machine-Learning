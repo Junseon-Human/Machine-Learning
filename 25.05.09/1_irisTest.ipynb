{
 "cells": [
  {
   "cell_type": "code",
   "execution_count": 1,
   "id": "d7c56813",
   "metadata": {},
   "outputs": [
    {
     "name": "stdout",
     "output_type": "stream",
     "text": [
      "Collecting scikit-learn\n",
      "  Downloading scikit_learn-1.6.1-cp312-cp312-win_amd64.whl.metadata (15 kB)\n",
      "Requirement already satisfied: numpy>=1.19.5 in c:\\users\\main\\miniconda3\\envs\\openai_api_part1\\lib\\site-packages (from scikit-learn) (2.2.5)\n",
      "Requirement already satisfied: scipy>=1.6.0 in c:\\users\\main\\miniconda3\\envs\\openai_api_part1\\lib\\site-packages (from scikit-learn) (1.15.2)\n",
      "Collecting joblib>=1.2.0 (from scikit-learn)\n",
      "  Downloading joblib-1.5.0-py3-none-any.whl.metadata (5.6 kB)\n",
      "Collecting threadpoolctl>=3.1.0 (from scikit-learn)\n",
      "  Downloading threadpoolctl-3.6.0-py3-none-any.whl.metadata (13 kB)\n",
      "Downloading scikit_learn-1.6.1-cp312-cp312-win_amd64.whl (11.1 MB)\n",
      "   ---------------------------------------- 0.0/11.1 MB ? eta -:--:--\n",
      "   ---------------------------------------- 11.1/11.1 MB 86.8 MB/s eta 0:00:00\n",
      "Downloading joblib-1.5.0-py3-none-any.whl (307 kB)\n",
      "Downloading threadpoolctl-3.6.0-py3-none-any.whl (18 kB)\n",
      "Installing collected packages: threadpoolctl, joblib, scikit-learn\n",
      "\n",
      "   ------------- -------------------------- 1/3 [joblib]\n",
      "   -------------------------- ------------- 2/3 [scikit-learn]\n",
      "   -------------------------- ------------- 2/3 [scikit-learn]\n",
      "   -------------------------- ------------- 2/3 [scikit-learn]\n",
      "   -------------------------- ------------- 2/3 [scikit-learn]\n",
      "   -------------------------- ------------- 2/3 [scikit-learn]\n",
      "   -------------------------- ------------- 2/3 [scikit-learn]\n",
      "   -------------------------- ------------- 2/3 [scikit-learn]\n",
      "   -------------------------- ------------- 2/3 [scikit-learn]\n",
      "   -------------------------- ------------- 2/3 [scikit-learn]\n",
      "   -------------------------- ------------- 2/3 [scikit-learn]\n",
      "   -------------------------- ------------- 2/3 [scikit-learn]\n",
      "   -------------------------- ------------- 2/3 [scikit-learn]\n",
      "   -------------------------- ------------- 2/3 [scikit-learn]\n",
      "   -------------------------- ------------- 2/3 [scikit-learn]\n",
      "   -------------------------- ------------- 2/3 [scikit-learn]\n",
      "   ---------------------------------------- 3/3 [scikit-learn]\n",
      "\n",
      "Successfully installed joblib-1.5.0 scikit-learn-1.6.1 threadpoolctl-3.6.0\n",
      "Note: you may need to restart the kernel to use updated packages.\n"
     ]
    }
   ],
   "source": [
    "%pip install scikit-learn"
   ]
  },
  {
   "cell_type": "code",
   "execution_count": 30,
   "id": "0cb0e542",
   "metadata": {},
   "outputs": [
    {
     "name": "stdout",
     "output_type": "stream",
     "text": [
      "\n",
      "[1단계] 데이터 로드중...\n",
      "데이터 샘플 예시:\n",
      "   sepal length (cm)  sepal width (cm)  petal length (cm)  petal width (cm)\n",
      "0                5.1               3.5                1.4               0.2\n",
      "1                4.9               3.0                1.4               0.2\n",
      "2                4.7               3.2                1.3               0.2\n",
      "3                4.6               3.1                1.5               0.2\n",
      "4                5.0               3.6                1.4               0.2\n",
      "\n",
      "타겟 값 예시:\n",
      "0    0\n",
      "1    0\n",
      "2    0\n",
      "3    0\n",
      "4    0\n",
      "Name: target, dtype: int64\n"
     ]
    }
   ],
   "source": [
    "import pandas as pd\n",
    "from sklearn.datasets import load_iris\n",
    "from sklearn.model_selection import train_test_split\n",
    "from sklearn.ensemble import RandomForestClassifier\n",
    "from sklearn.metrics import accuracy_score, classification_report\n",
    "import joblib\n",
    "\n",
    "\n",
    "# 1. 데이터 로드\n",
    "print(\"\\n[1단계] 데이터 로드중...\")\n",
    "iris = load_iris()\n",
    "X = pd.DataFrame(iris.data, columns=iris.feature_names)\n",
    "y = pd.Series(iris.target, name=\"target\")\n",
    "\n",
    "print(\"데이터 샘플 예시:\")\n",
    "print(X.head())\n",
    "print(\"\\n타겟 값 예시:\")\n",
    "print(y.head())"
   ]
  },
  {
   "cell_type": "code",
   "execution_count": 32,
   "id": "3a3cc156",
   "metadata": {},
   "outputs": [
    {
     "name": "stdout",
     "output_type": "stream",
     "text": [
      "\n",
      "[2단계] 데이터 전처리 점검...\n",
      "결측치 여부 확인:\n",
      "sepal length (cm)    0\n",
      "sepal width (cm)     0\n",
      "petal length (cm)    0\n",
      "petal width (cm)     0\n",
      "dtype: int64\n",
      "\n",
      " 기본 통계량 확인:\n",
      "       sepal length (cm)  sepal width (cm)  petal length (cm)  \\\n",
      "count         150.000000        150.000000         150.000000   \n",
      "mean            5.843333          3.057333           3.758000   \n",
      "std             0.828066          0.435866           1.765298   \n",
      "min             4.300000          2.000000           1.000000   \n",
      "25%             5.100000          2.800000           1.600000   \n",
      "50%             5.800000          3.000000           4.350000   \n",
      "75%             6.400000          3.300000           5.100000   \n",
      "max             7.900000          4.400000           6.900000   \n",
      "\n",
      "       petal width (cm)  \n",
      "count        150.000000  \n",
      "mean           1.199333  \n",
      "std            0.762238  \n",
      "min            0.100000  \n",
      "25%            0.300000  \n",
      "50%            1.300000  \n",
      "75%            1.800000  \n",
      "max            2.500000  \n"
     ]
    }
   ],
   "source": [
    "# 2. 전처리(예시: 결측치 확인)\n",
    "print(\"\\n[2단계] 데이터 전처리 점검...\")\n",
    "print(\"결측치 여부 확인:\")\n",
    "print(X.isnull().sum())\n",
    "print(\"\\n 기본 통계량 확인:\")\n",
    "print(X.describe())"
   ]
  },
  {
   "cell_type": "code",
   "execution_count": 21,
   "id": "35a6c2f9",
   "metadata": {},
   "outputs": [
    {
     "name": "stdout",
     "output_type": "stream",
     "text": [
      "\n",
      "[3단계] 데이터 분할 (train/test)...\n",
      "훈련 데이터 크기:(120, 4)\n",
      "테스트 데이터 크기:(30, 4)\n",
      "\n",
      "훈련 데이터 에시:\n",
      "     sepal length (cm)  sepal width (cm)  petal length (cm)  petal width (cm)\n",
      "8                  4.4               2.9                1.4               0.2\n",
      "106                4.9               2.5                4.5               1.7\n",
      "76                 6.8               2.8                4.8               1.4\n",
      "9                  4.9               3.1                1.5               0.1\n",
      "89                 5.5               2.5                4.0               1.3\n"
     ]
    }
   ],
   "source": [
    "# 3. 데이터 분할\n",
    "\n",
    "print(\"\\n[3단계] 데이터 분할 (train/test)...\")\n",
    "X_train, X_test, y_train, y_test = train_test_split(\n",
    "    X, y, test_size=0.2, stratify=y, random_state=42\n",
    ")\n",
    "print(f\"훈련 데이터 크기:{X_train.shape}\")\n",
    "print(f\"테스트 데이터 크기:{X_test.shape}\")\n",
    "\n",
    "print(\"\\n훈련 데이터 에시:\")\n",
    "print(X_train.head())"
   ]
  },
  {
   "cell_type": "code",
   "execution_count": 22,
   "id": "d6daf73b",
   "metadata": {},
   "outputs": [
    {
     "name": "stdout",
     "output_type": "stream",
     "text": [
      "\n",
      "[4단계] 모델학습(RandomForestClassifier)...\n",
      "모델학습완료.\n"
     ]
    }
   ],
   "source": [
    "# 4. 모델학습\n",
    "print(\"\\n[4단계] 모델학습(RandomForestClassifier)...\")\n",
    "model = RandomForestClassifier(n_estimators=100, random_state=42)\n",
    "model.fit(X_train, y_train)\n",
    "print(\"모델학습완료.\")"
   ]
  },
  {
   "cell_type": "code",
   "execution_count": 23,
   "id": "5494cc72",
   "metadata": {},
   "outputs": [
    {
     "name": "stdout",
     "output_type": "stream",
     "text": [
      "\n",
      "[5단계] 학습된모델저장및로딩...\n",
      "모델저장완료(iris_rf_model.pkl)\n",
      "모델로딩완료\n"
     ]
    }
   ],
   "source": [
    "# 5. 모델저장및로딩\n",
    "print(\"\\n[5단계] 학습된모델저장및로딩...\")\n",
    "joblib.dump(model, \"iris_rf_model.pkl\")\n",
    "print(\"모델저장완료(iris_rf_model.pkl)\")\n",
    "loaded_model = joblib.load(\"iris_rf_model.pkl\")\n",
    "print(\"모델로딩완료\")"
   ]
  },
  {
   "cell_type": "code",
   "execution_count": 34,
   "id": "46d3592c",
   "metadata": {},
   "outputs": [
    {
     "name": "stdout",
     "output_type": "stream",
     "text": [
      "\n",
      "[6단계] 테스트 데이터예측수행...\n",
      " 예측에사용될테스트데이터샘플:\n",
      "     sepal length (cm)  sepal width (cm)  petal length (cm)  petal width (cm)\n",
      "38                 4.4               3.0                1.3               0.2\n",
      "127                6.1               3.0                4.9               1.8\n",
      "57                 4.9               2.4                3.3               1.0\n",
      "93                 5.0               2.3                3.3               1.0\n",
      "42                 4.4               3.2                1.3               0.2\n",
      " 예측 완료\n"
     ]
    }
   ],
   "source": [
    "# 6. 예측\n",
    "print(\"\\n[6단계] 테스트 데이터예측수행...\")\n",
    "print(\" 예측에사용될테스트데이터샘플:\")\n",
    "print(X_test.head())\n",
    "y_pred = loaded_model.predict(X_test)\n",
    "print(\" 예측 완료\")"
   ]
  },
  {
   "cell_type": "code",
   "execution_count": null,
   "id": "213c01e1",
   "metadata": {},
   "outputs": [
    {
     "name": "stdout",
     "output_type": "stream",
     "text": [
      "\n",
      "[7단계] 결과 평가\n",
      " 정확도: 0.9000\n",
      "\n",
      " 분류 리포트:\n",
      "              precision    recall  f1-score   support\n",
      "\n",
      "      setosa       1.00      1.00      1.00        10\n",
      "  versicolor       0.82      0.90      0.86        10\n",
      "   virginica       0.89      0.80      0.84        10\n",
      "\n",
      "    accuracy                           0.90        30\n",
      "   macro avg       0.90      0.90      0.90        30\n",
      "weighted avg       0.90      0.90      0.90        30\n",
      "\n"
     ]
    }
   ],
   "source": [
    "# 7. 결과 평가\n",
    "print(\"\\n[7단계] 결과 평가\")\n",
    "accuracy = accuracy_score(\n",
    "    y_test, y_pred\n",
    ")  # 정답(y_test)과 예측(y_pred)이 얼마나 일치하는지를 계산해주는 함수\n",
    "print(f\" 정확도: {accuracy:.4f}\\n\")\n",
    "print(\" 분류 리포트:\")\n",
    "print(\n",
    "    classification_report(y_test, y_pred, target_names=iris.target_names)\n",
    ")  # Precision, Recall, F1-score를 클래스별로 쫙 정리해주는 종합 리포트 함수."
   ]
  },
  {
   "cell_type": "code",
   "execution_count": 45,
   "id": "0e45a344",
   "metadata": {},
   "outputs": [
    {
     "name": "stdout",
     "output_type": "stream",
     "text": [
      "\n",
      "[8단계] 임의 데이터로 예측 수행...\n",
      " 입력된 임의 데이터 샘플:\n",
      "   sepal length (cm)  sepal width (cm)  petal length (cm)  petal width (cm)\n",
      "0                5.0               3.2                1.2               0.2\n",
      "1                6.5               2.8                4.6               1.5\n",
      "2                7.2               3.0                6.1               2.0\n",
      "\n",
      " 예측 결과:\n",
      "샘플 1: setosa\n",
      "샘플 2: versicolor\n",
      "샘플 3: virginica\n"
     ]
    }
   ],
   "source": [
    "# 8. 임의 데이터로 예측 수행\n",
    "print(\"\\n[8단계] 임의 데이터로 예측 수행...\")\n",
    "import numpy as np\n",
    "\n",
    "# 임의의 데이터 생성 (Iris 데이터의 특징 범위 내에서)\n",
    "random_data = np.array(\n",
    "    [\n",
    "        [5.0, 3.2, 1.2, 0.2],  # setosa로 예상되는 데이터\n",
    "        [6.5, 2.8, 4.6, 1.5],  # versicolor로 예상되는 데이터\n",
    "        [7.2, 3.0, 6.1, 2.0],  # virginica로 예상되는 데이터\n",
    "    ]\n",
    ")\n",
    "\n",
    "# 데이터프레임으로 변환 (모델이 pandas DataFrame을 기대할 경우)\n",
    "random_df = pd.DataFrame(random_data, columns=iris.feature_names)\n",
    "\n",
    "print(\" 입력된 임의 데이터 샘플:\")\n",
    "print(random_df)\n",
    "\n",
    "# 예측 수행\n",
    "predictions = loaded_model.predict(random_df)\n",
    "\n",
    "# 클래스 이름 매핑\n",
    "predicted_classes = [iris.target_names[pred] for pred in predictions]\n",
    "\n",
    "print(\"\\n 예측 결과:\")\n",
    "for i, pred in enumerate(predicted_classes):\n",
    "    print(f\"샘플 {i+1}: {pred}\")"
   ]
  }
 ],
 "metadata": {
  "kernelspec": {
   "display_name": "openai_api_part1",
   "language": "python",
   "name": "python3"
  },
  "language_info": {
   "codemirror_mode": {
    "name": "ipython",
    "version": 3
   },
   "file_extension": ".py",
   "mimetype": "text/x-python",
   "name": "python",
   "nbconvert_exporter": "python",
   "pygments_lexer": "ipython3",
   "version": "3.12.3"
  }
 },
 "nbformat": 4,
 "nbformat_minor": 5
}
