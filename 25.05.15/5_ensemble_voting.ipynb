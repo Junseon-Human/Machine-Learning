{
 "cells": [
  {
   "cell_type": "code",
   "execution_count": 3,
   "id": "7ccfc9f3",
   "metadata": {},
   "outputs": [],
   "source": [
    "from sklearn.datasets import load_iris, load_wine, load_breast_cancer, load_diabetes\n",
    "from sklearn.datasets import fetch_california_housing\n",
    "from sklearn.preprocessing import StandardScaler\n",
    "from sklearn.pipeline import make_pipeline\n",
    "from sklearn.model_selection import cross_val_score\n",
    "\n",
    "from sklearn.ensemble import BaggingClassifier\n",
    "from sklearn.neighbors import KNeighborsClassifier\n",
    "from sklearn.svm import SVC\n",
    "from sklearn.tree import DecisionTreeClassifier\n",
    "\n",
    "from sklearn.ensemble import BaggingRegressor\n",
    "from sklearn.neighbors import KNeighborsRegressor\n",
    "from sklearn.svm import SVR\n",
    "from sklearn.tree import DecisionTreeRegressor\n",
    "\n",
    "from sklearn.ensemble import RandomForestClassifier, ExtraTreesClassifier\n",
    "from sklearn.ensemble import RandomForestRegressor, ExtraTreesRegressor\n",
    "from sklearn.ensemble import VotingClassifier, VotingRegressor"
   ]
  },
  {
   "cell_type": "markdown",
   "id": "39974fcf",
   "metadata": {},
   "source": [
    "# Classifier - hard voting"
   ]
  },
  {
   "cell_type": "code",
   "execution_count": 14,
   "id": "50a7b21f",
   "metadata": {},
   "outputs": [
    {
     "name": "stdout",
     "output_type": "stream",
     "text": [
      "Accuracy :0.97 SVC\n",
      "Accuracy :0.96 DecisionTreeClassifier\n",
      "Accuracy :0.96 RandomForestClassifier\n",
      "Accuracy :0.96 VotingClassifier\n"
     ]
    }
   ],
   "source": [
    "iris = load_iris()\n",
    "model_s = SVC()\n",
    "model_d = DecisionTreeClassifier()\n",
    "model_r = RandomForestClassifier()\n",
    "\n",
    "voting_model = VotingClassifier(\n",
    "    estimators=[(\"svc\", model_s), (\"DecisionTree\", model_d), (\"forest\", model_r)],\n",
    "    voting=\"hard\",\n",
    ")\n",
    "\n",
    "for model in (model_s, model_d, model_r, voting_model):\n",
    "    model_name = str(type(model)).split(\".\")[-1][:-2]\n",
    "    scores = cross_val_score(model, iris.data, iris.target, cv=5)\n",
    "    print(f\"Accuracy :{scores.mean():.2f} {model_name}\")"
   ]
  },
  {
   "cell_type": "markdown",
   "id": "de38c5ff",
   "metadata": {},
   "source": [
    "# Classifier - soft voting"
   ]
  },
  {
   "cell_type": "code",
   "execution_count": 18,
   "id": "80868a59",
   "metadata": {},
   "outputs": [
    {
     "name": "stdout",
     "output_type": "stream",
     "text": [
      "Accuracy :0.97 SVC\n",
      "Accuracy :0.95 DecisionTreeClassifier\n",
      "Accuracy :0.96 RandomForestClassifier\n",
      "Accuracy :0.97 VotingClassifier\n"
     ]
    }
   ],
   "source": [
    "iris = load_iris()\n",
    "model_s = SVC(probability=True)\n",
    "model_d = DecisionTreeClassifier()\n",
    "model_r = RandomForestClassifier()\n",
    "\n",
    "voting_model = VotingClassifier(\n",
    "    estimators=[(\"svc\", model_s), (\"DecisionTree\", model_d), (\"forest\", model_r)],\n",
    "    voting=\"soft\",\n",
    ")\n",
    "\n",
    "for model in (model_s, model_d, model_r, voting_model):\n",
    "    model_name = str(type(model)).split(\".\")[-1][:-2]\n",
    "    scores = cross_val_score(model, iris.data, iris.target, cv=5)\n",
    "    print(f\"Accuracy :{scores.mean():.2f} {model_name}\")"
   ]
  }
 ],
 "metadata": {
  "kernelspec": {
   "display_name": "openai_api_part1",
   "language": "python",
   "name": "python3"
  },
  "language_info": {
   "codemirror_mode": {
    "name": "ipython",
    "version": 3
   },
   "file_extension": ".py",
   "mimetype": "text/x-python",
   "name": "python",
   "nbconvert_exporter": "python",
   "pygments_lexer": "ipython3",
   "version": "3.12.3"
  }
 },
 "nbformat": 4,
 "nbformat_minor": 5
}
