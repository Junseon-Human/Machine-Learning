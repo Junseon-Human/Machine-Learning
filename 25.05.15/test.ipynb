{
 "cells": [
  {
   "cell_type": "code",
   "execution_count": null,
   "id": "e727a2a7",
   "metadata": {},
   "outputs": [
    {
     "name": "stdout",
     "output_type": "stream",
     "text": [
      "accuracy, f1_macro]\n"
     ]
    }
   ],
   "source": [
    "import re\n",
    "\n",
    "scoring = [\"accuracy\", \"f1_macro\"] if True else [\"neg_mean_squared_error\", \"r2\"]\n",
    "\n",
    "s = str(scoring)\n",
    "\n",
    "# '[', ']', \"'\", ',' 이런 문자들 제거\n",
    "cleaned = re.sub(r\"[\\[\\]',]\", \"\", s)\n",
    "\n",
    "# 공백까지 없애고 싶다면 아래처럼\n",
    "cleaned = cleaned.replace(\" \", \"\")\n",
    "\n",
    "print(cleaned)  # accuracyf1_macro"
   ]
  }
 ],
 "metadata": {
  "kernelspec": {
   "display_name": "openai_api_part1",
   "language": "python",
   "name": "python3"
  },
  "language_info": {
   "codemirror_mode": {
    "name": "ipython",
    "version": 3
   },
   "file_extension": ".py",
   "mimetype": "text/x-python",
   "name": "python",
   "nbconvert_exporter": "python",
   "pygments_lexer": "ipython3",
   "version": "3.12.3"
  }
 },
 "nbformat": 4,
 "nbformat_minor": 5
}
