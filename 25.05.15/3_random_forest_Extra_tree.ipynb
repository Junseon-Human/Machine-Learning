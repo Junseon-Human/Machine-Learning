{
 "cells": [
  {
   "cell_type": "code",
   "execution_count": 6,
   "id": "e87bf491",
   "metadata": {},
   "outputs": [],
   "source": [
    "from sklearn.datasets import load_iris, load_wine, load_breast_cancer, load_diabetes\n",
    "from sklearn.datasets import fetch_california_housing\n",
    "from sklearn.preprocessing import StandardScaler\n",
    "from sklearn.pipeline import make_pipeline\n",
    "from sklearn.model_selection import cross_validate\n",
    "\n",
    "from sklearn.ensemble import RandomForestClassifier, ExtraTreesClassifier\n",
    "from sklearn.ensemble import RandomForestRegressor, ExtraTreesRegressor"
   ]
  },
  {
   "cell_type": "code",
   "execution_count": 7,
   "id": "dc4f6886",
   "metadata": {},
   "outputs": [],
   "source": [
    "iris = load_iris()\n",
    "wine = load_wine()\n",
    "cancer = load_breast_cancer()\n",
    "diabetes = load_diabetes()\n",
    "california = fetch_california_housing()\n",
    "\n",
    "model = make_pipeline(StandardScaler(), RandomForestClassifier())"
   ]
  },
  {
   "cell_type": "markdown",
   "id": "9d8f424c",
   "metadata": {},
   "source": [
    "# Random Forest Classifier\n",
    "### iris"
   ]
  },
  {
   "cell_type": "code",
   "execution_count": 8,
   "id": "bcb115e8",
   "metadata": {},
   "outputs": [
    {
     "name": "stdout",
     "output_type": "stream",
     "text": [
      "Average Fit Time : 0.07076444625854492\n",
      "Average Score Time : 0.003122377395629883\n",
      "Average Test Score : 0.9666666666666668\n"
     ]
    }
   ],
   "source": [
    "cross_val = cross_validate(estimator=model, X=iris.data, y=iris.target, cv=5)\n",
    "print(f\"Average Fit Time : {cross_val['fit_time'].mean()}\")\n",
    "print(f\"Average Score Time : {cross_val['score_time'].mean()}\")\n",
    "print(f\"Average Test Score : {cross_val['test_score'].mean()}\")"
   ]
  },
  {
   "cell_type": "markdown",
   "id": "524bc2fe",
   "metadata": {},
   "source": [
    "### wine"
   ]
  },
  {
   "cell_type": "code",
   "execution_count": 22,
   "id": "62f05b84",
   "metadata": {},
   "outputs": [
    {
     "name": "stdout",
     "output_type": "stream",
     "text": [
      "Average Fit Time : 0.04537076950073242\n",
      "Average Score Time : 0.005034160614013672\n",
      "Average Test Score : 0.3095404773487382\n"
     ]
    }
   ],
   "source": [
    "cross_val = cross_validate(estimator=model, X=wine.data, y=wine.target, cv=5)\n",
    "print(f\"Average Fit Time : {cross_val['fit_time'].mean()}\")\n",
    "print(f\"Average Score Time : {cross_val['score_time'].mean()}\")\n",
    "print(f\"Average Test Score : {cross_val['test_score'].mean()}\")"
   ]
  },
  {
   "cell_type": "markdown",
   "id": "bd660859",
   "metadata": {},
   "source": [
    "### breast cancer"
   ]
  },
  {
   "cell_type": "code",
   "execution_count": 10,
   "id": "c4f1fab6",
   "metadata": {},
   "outputs": [
    {
     "name": "stdout",
     "output_type": "stream",
     "text": [
      "Average Fit Time : 0.12389717102050782\n",
      "Average Score Time : 0.0020670413970947264\n",
      "Average Test Score : 0.9596180717279925\n"
     ]
    }
   ],
   "source": [
    "cross_val = cross_validate(estimator=model, X=cancer.data, y=cancer.target, cv=5)\n",
    "print(f\"Average Fit Time : {cross_val['fit_time'].mean()}\")\n",
    "print(f\"Average Score Time : {cross_val['score_time'].mean()}\")\n",
    "print(f\"Average Test Score : {cross_val['test_score'].mean()}\")"
   ]
  },
  {
   "cell_type": "markdown",
   "id": "11c9e5e3",
   "metadata": {},
   "source": [
    "# Random Frest Regression"
   ]
  },
  {
   "cell_type": "markdown",
   "id": "4e4ecbaa",
   "metadata": {},
   "source": [
    "### california"
   ]
  },
  {
   "cell_type": "code",
   "execution_count": 11,
   "id": "7a180e13",
   "metadata": {},
   "outputs": [
    {
     "name": "stdout",
     "output_type": "stream",
     "text": [
      "Average Fit Time : 9.711645126342773\n",
      "Average Score Time : 0.052381134033203124\n",
      "Average Test Score : 0.650262806558193\n"
     ]
    }
   ],
   "source": [
    "model = make_pipeline(StandardScaler(), RandomForestRegressor())\n",
    "\n",
    "cross_val = cross_validate(\n",
    "    estimator=model, X=california.data, y=california.target, cv=5\n",
    ")\n",
    "\n",
    "print(f\"Average Fit Time : {cross_val['fit_time'].mean()}\")\n",
    "print(f\"Average Score Time : {cross_val['score_time'].mean()}\")\n",
    "print(f\"Average Test Score : {cross_val['test_score'].mean()}\")"
   ]
  },
  {
   "cell_type": "markdown",
   "id": "19de9de0",
   "metadata": {},
   "source": [
    "### diabetes"
   ]
  },
  {
   "cell_type": "code",
   "execution_count": 12,
   "id": "5199e6ec",
   "metadata": {},
   "outputs": [
    {
     "name": "stdout",
     "output_type": "stream",
     "text": [
      "Average Fit Time : 0.18697762489318848\n",
      "Average Score Time : 0.006352710723876953\n",
      "Average Test Score : 0.41946972698033347\n"
     ]
    }
   ],
   "source": [
    "cross_val = cross_validate(estimator=model, X=diabetes.data, y=diabetes.target, cv=5)\n",
    "\n",
    "print(f\"Average Fit Time : {cross_val['fit_time'].mean()}\")\n",
    "print(f\"Average Score Time : {cross_val['score_time'].mean()}\")\n",
    "print(f\"Average Test Score : {cross_val['test_score'].mean()}\")"
   ]
  },
  {
   "cell_type": "markdown",
   "id": "d31fd734",
   "metadata": {},
   "source": [
    "# Extra Tree\n",
    "### 일반 의사결정 나무는 데이터 분류의 기준을 자체 판단하여 적용하지만<br> Extra Tree 의 경우 기준을 랜덤으로 돌려 분류를 진행함"
   ]
  },
  {
   "cell_type": "markdown",
   "id": "016446d9",
   "metadata": {},
   "source": [
    "# Extra Tree 분류"
   ]
  },
  {
   "cell_type": "code",
   "execution_count": 16,
   "id": "4ef20c25",
   "metadata": {},
   "outputs": [],
   "source": [
    "model = make_pipeline(StandardScaler(), ExtraTreesClassifier())"
   ]
  },
  {
   "cell_type": "markdown",
   "id": "8d70db0d",
   "metadata": {},
   "source": [
    "### iris"
   ]
  },
  {
   "cell_type": "code",
   "execution_count": 17,
   "id": "d32dd1d6",
   "metadata": {},
   "outputs": [
    {
     "name": "stdout",
     "output_type": "stream",
     "text": [
      "Average Fit Time : 0.052822303771972653\n",
      "Average Score Time : 0.002758216857910156\n",
      "Average Test Score : 0.9533333333333334\n"
     ]
    }
   ],
   "source": [
    "cross_val = cross_validate(estimator=model, X=iris.data, y=iris.target, cv=5)\n",
    "print(f\"Average Fit Time : {cross_val['fit_time'].mean()}\")\n",
    "print(f\"Average Score Time : {cross_val['score_time'].mean()}\")\n",
    "print(f\"Average Test Score : {cross_val['test_score'].mean()}\")"
   ]
  },
  {
   "cell_type": "markdown",
   "id": "ad6ca2e4",
   "metadata": {},
   "source": [
    "### wine"
   ]
  },
  {
   "cell_type": "code",
   "execution_count": 18,
   "id": "5a5813a3",
   "metadata": {},
   "outputs": [
    {
     "name": "stdout",
     "output_type": "stream",
     "text": [
      "Average Fit Time : 0.05667295455932617\n",
      "Average Score Time : 0.000786733627319336\n",
      "Average Test Score : 0.9777777777777779\n"
     ]
    }
   ],
   "source": [
    "cross_val = cross_validate(estimator=model, X=wine.data, y=wine.target, cv=5)\n",
    "print(f\"Average Fit Time : {cross_val['fit_time'].mean()}\")\n",
    "print(f\"Average Score Time : {cross_val['score_time'].mean()}\")\n",
    "print(f\"Average Test Score : {cross_val['test_score'].mean()}\")"
   ]
  },
  {
   "cell_type": "markdown",
   "id": "5ddc9192",
   "metadata": {},
   "source": [
    "### breast cancer"
   ]
  },
  {
   "cell_type": "code",
   "execution_count": 19,
   "id": "6c4ce10f",
   "metadata": {},
   "outputs": [
    {
     "name": "stdout",
     "output_type": "stream",
     "text": [
      "Average Fit Time : 0.0670480728149414\n",
      "Average Score Time : 0.0020716190338134766\n",
      "Average Test Score : 0.9666356155876417\n"
     ]
    }
   ],
   "source": [
    "cross_val = cross_validate(estimator=model, X=cancer.data, y=cancer.target, cv=5)\n",
    "print(f\"Average Fit Time : {cross_val['fit_time'].mean()}\")\n",
    "print(f\"Average Score Time : {cross_val['score_time'].mean()}\")\n",
    "print(f\"Average Test Score : {cross_val['test_score'].mean()}\")"
   ]
  },
  {
   "cell_type": "markdown",
   "id": "1276139c",
   "metadata": {},
   "source": [
    "# Extra Tree 회귀"
   ]
  },
  {
   "cell_type": "markdown",
   "id": "9664d9e4",
   "metadata": {},
   "source": [
    "### california"
   ]
  },
  {
   "cell_type": "code",
   "execution_count": 20,
   "id": "574526d3",
   "metadata": {},
   "outputs": [
    {
     "name": "stdout",
     "output_type": "stream",
     "text": [
      "Average Fit Time : 3.004358100891113\n",
      "Average Score Time : 0.05633811950683594\n",
      "Average Test Score : 0.6746765190398203\n"
     ]
    }
   ],
   "source": [
    "model = make_pipeline(StandardScaler(), ExtraTreesRegressor())\n",
    "\n",
    "cross_val = cross_validate(\n",
    "    estimator=model, X=california.data, y=california.target, cv=5\n",
    ")\n",
    "\n",
    "print(f\"Average Fit Time : {cross_val['fit_time'].mean()}\")\n",
    "print(f\"Average Score Time : {cross_val['score_time'].mean()}\")\n",
    "print(f\"Average Test Score : {cross_val['test_score'].mean()}\")"
   ]
  },
  {
   "cell_type": "markdown",
   "id": "ab1987e6",
   "metadata": {},
   "source": [
    "### diabetes"
   ]
  },
  {
   "cell_type": "code",
   "execution_count": 21,
   "id": "4a4e5da5",
   "metadata": {},
   "outputs": [
    {
     "name": "stdout",
     "output_type": "stream",
     "text": [
      "Average Fit Time : 0.1075444221496582\n",
      "Average Score Time : 0.0022515773773193358\n",
      "Average Test Score : 0.443036429832969\n"
     ]
    }
   ],
   "source": [
    "cross_val = cross_validate(estimator=model, X=diabetes.data, y=diabetes.target, cv=5)\n",
    "\n",
    "print(f\"Average Fit Time : {cross_val['fit_time'].mean()}\")\n",
    "print(f\"Average Score Time : {cross_val['score_time'].mean()}\")\n",
    "print(f\"Average Test Score : {cross_val['test_score'].mean()}\")"
   ]
  }
 ],
 "metadata": {
  "kernelspec": {
   "display_name": "openai_api_part1",
   "language": "python",
   "name": "python3"
  },
  "language_info": {
   "codemirror_mode": {
    "name": "ipython",
    "version": 3
   },
   "file_extension": ".py",
   "mimetype": "text/x-python",
   "name": "python",
   "nbconvert_exporter": "python",
   "pygments_lexer": "ipython3",
   "version": "3.12.3"
  }
 },
 "nbformat": 4,
 "nbformat_minor": 5
}
