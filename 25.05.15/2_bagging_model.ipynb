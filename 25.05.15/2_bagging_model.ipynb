{
 "cells": [
  {
   "cell_type": "code",
   "execution_count": 27,
   "id": "9df15c77",
   "metadata": {},
   "outputs": [],
   "source": [
    "from sklearn.datasets import load_iris, load_wine, load_breast_cancer, load_diabetes\n",
    "from sklearn.datasets import fetch_california_housing\n",
    "from sklearn.preprocessing import StandardScaler\n",
    "from sklearn.pipeline import make_pipeline\n",
    "from sklearn.model_selection import cross_validate\n",
    "\n",
    "from sklearn.ensemble import BaggingClassifier\n",
    "from sklearn.neighbors import KNeighborsClassifier\n",
    "from sklearn.svm import SVC\n",
    "from sklearn.tree import DecisionTreeClassifier\n",
    "\n",
    "from sklearn.ensemble import BaggingRegressor\n",
    "from sklearn.neighbors import KNeighborsRegressor\n",
    "from sklearn.svm import SVR\n",
    "from sklearn.tree import DecisionTreeRegressor\n",
    "\n",
    "from sklearn.ensemble import RandomForestClassifier, ExtraTreesClassifier\n",
    "from sklearn.ensemble import RandomForestRegressor, ExtraTreesRegressor"
   ]
  },
  {
   "cell_type": "markdown",
   "id": "59033a60",
   "metadata": {},
   "source": [
    "# Classifier Bagging\n",
    "## KNN 모델로 randomforest 구성\n",
    "### iris"
   ]
  },
  {
   "cell_type": "code",
   "execution_count": 28,
   "id": "c12b4a87",
   "metadata": {},
   "outputs": [
    {
     "name": "stdout",
     "output_type": "stream",
     "text": [
      "nomal_model\n",
      "Average Fit Time : 0.001435708999633789\n",
      "Average Score Time : 0.0016277313232421875\n",
      "Average Test Score : 0.96\n",
      "\n",
      "bagging_model\n",
      "Average Fit Time : 0.01384592056274414\n",
      "Average Score Time : 0.007103395462036133\n",
      "Average Test Score : 0.96\n"
     ]
    }
   ],
   "source": [
    "iris = load_iris()\n",
    "wine = load_wine()\n",
    "cancer = load_breast_cancer()\n",
    "\n",
    "# 파이프라인으로 KNN 분류 세팅\n",
    "KB_model = make_pipeline(StandardScaler(), KNeighborsClassifier())\n",
    "\n",
    "bagging_model = BaggingClassifier(KB_model, n_estimators=10)\n",
    "\n",
    "cross_val = cross_validate(estimator=KB_model, X=iris.data, y=iris.target, cv=5)\n",
    "print(\"nomal_model\")\n",
    "print(f\"Average Fit Time : {cross_val['fit_time'].mean()}\")\n",
    "print(f\"Average Score Time : {cross_val['score_time'].mean()}\")\n",
    "print(f\"Average Test Score : {cross_val['test_score'].mean()}\")\n",
    "\n",
    "cross_val = cross_validate(estimator=bagging_model, X=iris.data, y=iris.target, cv=5)\n",
    "print(\"\\nbagging_model\")\n",
    "print(f\"Average Fit Time : {cross_val['fit_time'].mean()}\")\n",
    "print(f\"Average Score Time : {cross_val['score_time'].mean()}\")\n",
    "print(f\"Average Test Score : {cross_val['test_score'].mean()}\")"
   ]
  },
  {
   "cell_type": "markdown",
   "id": "14b6691d",
   "metadata": {},
   "source": [
    "### wine"
   ]
  },
  {
   "cell_type": "code",
   "execution_count": 29,
   "id": "42cb6aab",
   "metadata": {},
   "outputs": [
    {
     "name": "stdout",
     "output_type": "stream",
     "text": [
      "nomal_model\n",
      "Average Fit Time : 0.0013727664947509766\n",
      "Average Score Time : 0.0019457340240478516\n",
      "Average Test Score : 0.9493650793650794\n",
      "\n",
      "bagging_model\n",
      "Average Fit Time : 0.011727237701416015\n",
      "Average Score Time : 0.0071566104888916016\n",
      "Average Test Score : 0.9552380952380952\n"
     ]
    }
   ],
   "source": [
    "cross_val = cross_validate(estimator=KB_model, X=wine.data, y=wine.target, cv=5)\n",
    "print(\"nomal_model\")\n",
    "print(f\"Average Fit Time : {cross_val['fit_time'].mean()}\")\n",
    "print(f\"Average Score Time : {cross_val['score_time'].mean()}\")\n",
    "print(f\"Average Test Score : {cross_val['test_score'].mean()}\")\n",
    "\n",
    "cross_val = cross_validate(estimator=bagging_model, X=wine.data, y=wine.target, cv=5)\n",
    "print(\"\\nbagging_model\")\n",
    "print(f\"Average Fit Time : {cross_val['fit_time'].mean()}\")\n",
    "print(f\"Average Score Time : {cross_val['score_time'].mean()}\")\n",
    "print(f\"Average Test Score : {cross_val['test_score'].mean()}\")"
   ]
  },
  {
   "cell_type": "markdown",
   "id": "b4d81019",
   "metadata": {},
   "source": [
    "### Brest cancer"
   ]
  },
  {
   "cell_type": "code",
   "execution_count": 30,
   "id": "7b55ab14",
   "metadata": {},
   "outputs": [
    {
     "name": "stdout",
     "output_type": "stream",
     "text": [
      "nomal_model\n",
      "Average Fit Time : 0.002106904983520508\n",
      "Average Score Time : 0.005432415008544922\n",
      "Average Test Score : 0.9648501785437045\n",
      "\n",
      "bagging_model\n",
      "Average Fit Time : 0.015256118774414063\n",
      "Average Score Time : 0.059592914581298825\n",
      "Average Test Score : 0.964834653004192\n"
     ]
    }
   ],
   "source": [
    "cross_val = cross_validate(estimator=KB_model, X=cancer.data, y=cancer.target, cv=5)\n",
    "print(\"nomal_model\")\n",
    "print(f\"Average Fit Time : {cross_val['fit_time'].mean()}\")\n",
    "print(f\"Average Score Time : {cross_val['score_time'].mean()}\")\n",
    "print(f\"Average Test Score : {cross_val['test_score'].mean()}\")\n",
    "\n",
    "cross_val = cross_validate(\n",
    "    estimator=bagging_model, X=cancer.data, y=cancer.target, cv=5\n",
    ")\n",
    "print(\"\\nbagging_model\")\n",
    "print(f\"Average Fit Time : {cross_val['fit_time'].mean()}\")\n",
    "print(f\"Average Score Time : {cross_val['score_time'].mean()}\")\n",
    "print(f\"Average Test Score : {cross_val['test_score'].mean()}\")"
   ]
  },
  {
   "cell_type": "markdown",
   "id": "fac22523",
   "metadata": {},
   "source": [
    "## SVC 로 구성 비교"
   ]
  },
  {
   "cell_type": "code",
   "execution_count": 31,
   "id": "8983df22",
   "metadata": {},
   "outputs": [],
   "source": [
    "SB_model = make_pipeline(StandardScaler(), SVC())\n",
    "\n",
    "bagging_model = BaggingClassifier(SB_model, n_estimators=10)"
   ]
  },
  {
   "cell_type": "markdown",
   "id": "c9cdbdc2",
   "metadata": {},
   "source": [
    "### iris"
   ]
  },
  {
   "cell_type": "code",
   "execution_count": 32,
   "id": "43fa9364",
   "metadata": {},
   "outputs": [
    {
     "name": "stdout",
     "output_type": "stream",
     "text": [
      "nomal_model\n",
      "Average Fit Time : 0.002508687973022461\n",
      "Average Score Time : 0.0\n",
      "Average Test Score : 0.9666666666666666\n",
      "\n",
      "bagging_model\n",
      "Average Fit Time : 0.012524890899658202\n",
      "Average Score Time : 0.0064560890197753905\n",
      "Average Test Score : 0.96\n"
     ]
    }
   ],
   "source": [
    "cross_val = cross_validate(estimator=SB_model, X=iris.data, y=iris.target, cv=5)\n",
    "print(\"nomal_model\")\n",
    "print(f\"Average Fit Time : {cross_val['fit_time'].mean()}\")\n",
    "print(f\"Average Score Time : {cross_val['score_time'].mean()}\")\n",
    "print(f\"Average Test Score : {cross_val['test_score'].mean()}\")\n",
    "\n",
    "cross_val = cross_validate(estimator=bagging_model, X=iris.data, y=iris.target, cv=5)\n",
    "print(\"\\nbagging_model\")\n",
    "print(f\"Average Fit Time : {cross_val['fit_time'].mean()}\")\n",
    "print(f\"Average Score Time : {cross_val['score_time'].mean()}\")\n",
    "print(f\"Average Test Score : {cross_val['test_score'].mean()}\")"
   ]
  },
  {
   "cell_type": "markdown",
   "id": "05f279b6",
   "metadata": {},
   "source": [
    "### wine"
   ]
  },
  {
   "cell_type": "code",
   "execution_count": 33,
   "id": "f1e2aeee",
   "metadata": {},
   "outputs": [
    {
     "name": "stdout",
     "output_type": "stream",
     "text": [
      "nomal_model\n",
      "Average Fit Time : 0.000999116897583008\n",
      "Average Score Time : 0.0\n",
      "Average Test Score : 0.9833333333333334\n",
      "\n",
      "bagging_model\n",
      "Average Fit Time : 0.020222806930541994\n",
      "Average Score Time : 0.0038257122039794924\n",
      "Average Test Score : 0.9833333333333334\n"
     ]
    }
   ],
   "source": [
    "cross_val = cross_validate(estimator=SB_model, X=wine.data, y=wine.target, cv=5)\n",
    "print(\"nomal_model\")\n",
    "print(f\"Average Fit Time : {cross_val['fit_time'].mean()}\")\n",
    "print(f\"Average Score Time : {cross_val['score_time'].mean()}\")\n",
    "print(f\"Average Test Score : {cross_val['test_score'].mean()}\")\n",
    "\n",
    "cross_val = cross_validate(estimator=bagging_model, X=wine.data, y=wine.target, cv=5)\n",
    "print(\"\\nbagging_model\")\n",
    "print(f\"Average Fit Time : {cross_val['fit_time'].mean()}\")\n",
    "print(f\"Average Score Time : {cross_val['score_time'].mean()}\")\n",
    "print(f\"Average Test Score : {cross_val['test_score'].mean()}\")"
   ]
  },
  {
   "cell_type": "markdown",
   "id": "bb1e6b9f",
   "metadata": {},
   "source": [
    "### breast cancer"
   ]
  },
  {
   "cell_type": "code",
   "execution_count": 34,
   "id": "0aa8ea0b",
   "metadata": {},
   "outputs": [
    {
     "name": "stdout",
     "output_type": "stream",
     "text": [
      "nomal_model\n",
      "Average Fit Time : 0.0021100997924804687\n",
      "Average Score Time : 0.001739835739135742\n",
      "Average Test Score : 0.9736376339077782\n",
      "\n",
      "bagging_model\n",
      "Average Fit Time : 0.03487949371337891\n",
      "Average Score Time : 0.004475975036621093\n",
      "Average Test Score : 0.9789318428815401\n"
     ]
    }
   ],
   "source": [
    "cross_val = cross_validate(estimator=SB_model, X=cancer.data, y=cancer.target, cv=5)\n",
    "print(\"nomal_model\")\n",
    "print(f\"Average Fit Time : {cross_val['fit_time'].mean()}\")\n",
    "print(f\"Average Score Time : {cross_val['score_time'].mean()}\")\n",
    "print(f\"Average Test Score : {cross_val['test_score'].mean()}\")\n",
    "\n",
    "cross_val = cross_validate(\n",
    "    estimator=bagging_model, X=cancer.data, y=cancer.target, cv=5\n",
    ")\n",
    "print(\"\\nbagging_model\")\n",
    "print(f\"Average Fit Time : {cross_val['fit_time'].mean()}\")\n",
    "print(f\"Average Score Time : {cross_val['score_time'].mean()}\")\n",
    "print(f\"Average Test Score : {cross_val['test_score'].mean()}\")"
   ]
  },
  {
   "cell_type": "markdown",
   "id": "819bc91e",
   "metadata": {},
   "source": [
    "## DecisionTree 분류로 구성"
   ]
  },
  {
   "cell_type": "code",
   "execution_count": 35,
   "id": "4b6514fa",
   "metadata": {},
   "outputs": [],
   "source": [
    "DT_model = make_pipeline(StandardScaler(), DecisionTreeClassifier())\n",
    "\n",
    "bagging_model = BaggingClassifier(DT_model, n_estimators=10)"
   ]
  },
  {
   "cell_type": "markdown",
   "id": "c76f7e27",
   "metadata": {},
   "source": [
    "### iris"
   ]
  },
  {
   "cell_type": "code",
   "execution_count": 36,
   "id": "3b09d530",
   "metadata": {},
   "outputs": [
    {
     "name": "stdout",
     "output_type": "stream",
     "text": [
      "nomal_model\n",
      "Average Fit Time : 0.0001347064971923828\n",
      "Average Score Time : 0.0\n",
      "Average Test Score : 0.9666666666666668\n",
      "\n",
      "bagging_model\n",
      "Average Fit Time : 0.013682079315185548\n",
      "Average Score Time : 0.0036650180816650392\n",
      "Average Test Score : 0.9600000000000002\n"
     ]
    }
   ],
   "source": [
    "cross_val = cross_validate(estimator=DT_model, X=iris.data, y=iris.target, cv=5)\n",
    "print(\"nomal_model\")\n",
    "print(f\"Average Fit Time : {cross_val['fit_time'].mean()}\")\n",
    "print(f\"Average Score Time : {cross_val['score_time'].mean()}\")\n",
    "print(f\"Average Test Score : {cross_val['test_score'].mean()}\")\n",
    "\n",
    "cross_val = cross_validate(estimator=bagging_model, X=iris.data, y=iris.target, cv=5)\n",
    "print(\"\\nbagging_model\")\n",
    "print(f\"Average Fit Time : {cross_val['fit_time'].mean()}\")\n",
    "print(f\"Average Score Time : {cross_val['score_time'].mean()}\")\n",
    "print(f\"Average Test Score : {cross_val['test_score'].mean()}\")"
   ]
  },
  {
   "cell_type": "markdown",
   "id": "5e67c9d0",
   "metadata": {},
   "source": [
    "### wine"
   ]
  },
  {
   "cell_type": "code",
   "execution_count": 37,
   "id": "38f82844",
   "metadata": {},
   "outputs": [
    {
     "name": "stdout",
     "output_type": "stream",
     "text": [
      "nomal_model\n",
      "Average Fit Time : 0.0\n",
      "Average Score Time : 0.0\n",
      "Average Test Score : 0.8709523809523809\n",
      "\n",
      "bagging_model\n",
      "Average Fit Time : 0.023434019088745116\n",
      "Average Score Time : 0.0010470867156982422\n",
      "Average Test Score : 0.9220634920634921\n"
     ]
    }
   ],
   "source": [
    "cross_val = cross_validate(estimator=DT_model, X=wine.data, y=wine.target, cv=5)\n",
    "print(\"nomal_model\")\n",
    "print(f\"Average Fit Time : {cross_val['fit_time'].mean()}\")\n",
    "print(f\"Average Score Time : {cross_val['score_time'].mean()}\")\n",
    "print(f\"Average Test Score : {cross_val['test_score'].mean()}\")\n",
    "\n",
    "cross_val = cross_validate(estimator=bagging_model, X=wine.data, y=wine.target, cv=5)\n",
    "print(\"\\nbagging_model\")\n",
    "print(f\"Average Fit Time : {cross_val['fit_time'].mean()}\")\n",
    "print(f\"Average Score Time : {cross_val['score_time'].mean()}\")\n",
    "print(f\"Average Test Score : {cross_val['test_score'].mean()}\")"
   ]
  },
  {
   "cell_type": "markdown",
   "id": "1fadf5dc",
   "metadata": {},
   "source": [
    "### cancer"
   ]
  },
  {
   "cell_type": "code",
   "execution_count": 38,
   "id": "0c245725",
   "metadata": {},
   "outputs": [
    {
     "name": "stdout",
     "output_type": "stream",
     "text": [
      "nomal_model\n",
      "Average Fit Time : 0.007463502883911133\n",
      "Average Score Time : 9.961128234863282e-05\n",
      "Average Test Score : 0.924406148113647\n",
      "\n",
      "bagging_model\n",
      "Average Fit Time : 0.050327205657958986\n",
      "Average Score Time : 0.005186748504638672\n",
      "Average Test Score : 0.9543393882937432\n"
     ]
    }
   ],
   "source": [
    "cross_val = cross_validate(estimator=DT_model, X=cancer.data, y=cancer.target, cv=5)\n",
    "print(\"nomal_model\")\n",
    "print(f\"Average Fit Time : {cross_val['fit_time'].mean()}\")\n",
    "print(f\"Average Score Time : {cross_val['score_time'].mean()}\")\n",
    "print(f\"Average Test Score : {cross_val['test_score'].mean()}\")\n",
    "\n",
    "cross_val = cross_validate(\n",
    "    estimator=bagging_model, X=cancer.data, y=cancer.target, cv=5\n",
    ")\n",
    "print(\"\\nbagging_model\")\n",
    "print(f\"Average Fit Time : {cross_val['fit_time'].mean()}\")\n",
    "print(f\"Average Score Time : {cross_val['score_time'].mean()}\")\n",
    "print(f\"Average Test Score : {cross_val['test_score'].mean()}\")"
   ]
  },
  {
   "cell_type": "markdown",
   "id": "6dd2f2bd",
   "metadata": {},
   "source": [
    "# Regression Bagging"
   ]
  },
  {
   "cell_type": "code",
   "execution_count": 39,
   "id": "7c383cbb",
   "metadata": {},
   "outputs": [],
   "source": [
    "california = fetch_california_housing()\n",
    "diabetes = load_diabetes()"
   ]
  },
  {
   "cell_type": "markdown",
   "id": "528768d9",
   "metadata": {},
   "source": [
    "## KNN 회귀로 분석"
   ]
  },
  {
   "cell_type": "code",
   "execution_count": 40,
   "id": "5ca79f97",
   "metadata": {},
   "outputs": [],
   "source": [
    "model = make_pipeline(StandardScaler(), KNeighborsRegressor())\n",
    "\n",
    "bagging_model = BaggingRegressor(model, n_estimators=10)"
   ]
  },
  {
   "cell_type": "markdown",
   "id": "bb8cea82",
   "metadata": {},
   "source": [
    "### californida 데이터로 비교"
   ]
  },
  {
   "cell_type": "code",
   "execution_count": 41,
   "id": "c5c9702c",
   "metadata": {},
   "outputs": [
    {
     "name": "stdout",
     "output_type": "stream",
     "text": [
      "nomal_model\n",
      "Average Fit Time : 0.02170839309692383\n",
      "Average Score Time : 0.1490469455718994\n",
      "Average Test Score : 0.5211863022484255\n",
      "\n",
      "bagging_model\n",
      "Average Fit Time : 0.2414236545562744\n",
      "Average Score Time : 1.4820634841918945\n",
      "Average Test Score : 0.5448580291714082\n"
     ]
    }
   ],
   "source": [
    "cross_val = cross_validate(\n",
    "    estimator=model, X=california.data, y=california.target, cv=5\n",
    ")\n",
    "print(\"nomal_model\")\n",
    "print(f\"Average Fit Time : {cross_val['fit_time'].mean()}\")\n",
    "print(f\"Average Score Time : {cross_val['score_time'].mean()}\")\n",
    "print(f\"Average Test Score : {cross_val['test_score'].mean()}\")\n",
    "\n",
    "cross_val = cross_validate(\n",
    "    estimator=bagging_model, X=california.data, y=california.target, cv=5\n",
    ")\n",
    "print(\"\\nbagging_model\")\n",
    "print(f\"Average Fit Time : {cross_val['fit_time'].mean()}\")\n",
    "print(f\"Average Score Time : {cross_val['score_time'].mean()}\")\n",
    "print(f\"Average Test Score : {cross_val['test_score'].mean()}\")"
   ]
  },
  {
   "cell_type": "markdown",
   "id": "9f3b7746",
   "metadata": {},
   "source": [
    "### diabetes 데이터로 비교"
   ]
  },
  {
   "cell_type": "code",
   "execution_count": 42,
   "id": "8fd5a98d",
   "metadata": {},
   "outputs": [
    {
     "name": "stdout",
     "output_type": "stream",
     "text": [
      "nomal_model\n",
      "Average Fit Time : 0.001351785659790039\n",
      "Average Score Time : 0.0011081695556640625\n",
      "Average Test Score : 0.3689720650295623\n",
      "\n",
      "bagging_model\n",
      "Average Fit Time : 0.014630746841430665\n",
      "Average Score Time : 0.007811498641967773\n",
      "Average Test Score : 0.3857633280807051\n"
     ]
    }
   ],
   "source": [
    "cross_val = cross_validate(estimator=model, X=diabetes.data, y=diabetes.target, cv=5)\n",
    "print(\"nomal_model\")\n",
    "print(f\"Average Fit Time : {cross_val['fit_time'].mean()}\")\n",
    "print(f\"Average Score Time : {cross_val['score_time'].mean()}\")\n",
    "print(f\"Average Test Score : {cross_val['test_score'].mean()}\")\n",
    "\n",
    "cross_val = cross_validate(\n",
    "    estimator=bagging_model, X=diabetes.data, y=diabetes.target, cv=5\n",
    ")\n",
    "print(\"\\nbagging_model\")\n",
    "print(f\"Average Fit Time : {cross_val['fit_time'].mean()}\")\n",
    "print(f\"Average Score Time : {cross_val['score_time'].mean()}\")\n",
    "print(f\"Average Test Score : {cross_val['test_score'].mean()}\")"
   ]
  },
  {
   "cell_type": "markdown",
   "id": "fbac8417",
   "metadata": {},
   "source": [
    "## SVR 로 분석"
   ]
  },
  {
   "cell_type": "code",
   "execution_count": 43,
   "id": "a5caa2c4",
   "metadata": {},
   "outputs": [],
   "source": [
    "model = make_pipeline(StandardScaler(), SVR())\n",
    "\n",
    "bagging_model = BaggingRegressor(model, n_estimators=10)"
   ]
  },
  {
   "cell_type": "markdown",
   "id": "cb1f5b61",
   "metadata": {},
   "source": [
    "### californida 데이터로 비교"
   ]
  },
  {
   "cell_type": "code",
   "execution_count": 44,
   "id": "41042ac1",
   "metadata": {},
   "outputs": [
    {
     "name": "stdout",
     "output_type": "stream",
     "text": [
      "nomal_model\n",
      "Average Fit Time : 4.181959104537964\n",
      "Average Score Time : 2.0651344776153566\n",
      "Average Test Score : 0.6686837576949693\n",
      "\n",
      "bagging_model\n",
      "Average Fit Time : 42.60784101486206\n",
      "Average Score Time : 20.51525921821594\n",
      "Average Test Score : 0.6729454564915374\n"
     ]
    }
   ],
   "source": [
    "cross_val = cross_validate(\n",
    "    estimator=model, X=california.data, y=california.target, cv=5\n",
    ")\n",
    "print(\"nomal_model\")\n",
    "print(f\"Average Fit Time : {cross_val['fit_time'].mean()}\")\n",
    "print(f\"Average Score Time : {cross_val['score_time'].mean()}\")\n",
    "print(f\"Average Test Score : {cross_val['test_score'].mean()}\")\n",
    "\n",
    "cross_val = cross_validate(\n",
    "    estimator=bagging_model, X=california.data, y=california.target, cv=5\n",
    ")\n",
    "print(\"\\nbagging_model\")\n",
    "print(f\"Average Fit Time : {cross_val['fit_time'].mean()}\")\n",
    "print(f\"Average Score Time : {cross_val['score_time'].mean()}\")\n",
    "print(f\"Average Test Score : {cross_val['test_score'].mean()}\")"
   ]
  },
  {
   "cell_type": "markdown",
   "id": "3cf502b3",
   "metadata": {},
   "source": [
    "### diabetes 데이터로 비교"
   ]
  },
  {
   "cell_type": "code",
   "execution_count": 45,
   "id": "667aa5ca",
   "metadata": {},
   "outputs": [
    {
     "name": "stdout",
     "output_type": "stream",
     "text": [
      "nomal_model\n",
      "Average Fit Time : 0.004504346847534179\n",
      "Average Score Time : 0.0011952877044677734\n",
      "Average Test Score : 0.14659868748701582\n",
      "\n",
      "bagging_model\n",
      "Average Fit Time : 0.03776717185974121\n",
      "Average Score Time : 0.015136051177978515\n",
      "Average Test Score : 0.14418345114447856\n"
     ]
    }
   ],
   "source": [
    "cross_val = cross_validate(estimator=model, X=diabetes.data, y=diabetes.target, cv=5)\n",
    "print(\"nomal_model\")\n",
    "print(f\"Average Fit Time : {cross_val['fit_time'].mean()}\")\n",
    "print(f\"Average Score Time : {cross_val['score_time'].mean()}\")\n",
    "print(f\"Average Test Score : {cross_val['test_score'].mean()}\")\n",
    "\n",
    "cross_val = cross_validate(\n",
    "    estimator=bagging_model, X=diabetes.data, y=diabetes.target, cv=5\n",
    ")\n",
    "print(\"\\nbagging_model\")\n",
    "print(f\"Average Fit Time : {cross_val['fit_time'].mean()}\")\n",
    "print(f\"Average Score Time : {cross_val['score_time'].mean()}\")\n",
    "print(f\"Average Test Score : {cross_val['test_score'].mean()}\")"
   ]
  },
  {
   "cell_type": "markdown",
   "id": "f8ab9ef3",
   "metadata": {},
   "source": [
    "### 의사결정나무 회귀 모델로 분석"
   ]
  },
  {
   "cell_type": "code",
   "execution_count": 48,
   "id": "1d6419cf",
   "metadata": {},
   "outputs": [],
   "source": [
    "model = make_pipeline(StandardScaler(), DecisionTreeRegressor())\n",
    "\n",
    "bagging_model = BaggingRegressor(estimator=model, n_estimators=10)"
   ]
  },
  {
   "cell_type": "markdown",
   "id": "ef9d4b77",
   "metadata": {},
   "source": [
    "### californida 데이터로 비교"
   ]
  },
  {
   "cell_type": "code",
   "execution_count": 49,
   "id": "b723d5ff",
   "metadata": {},
   "outputs": [
    {
     "name": "stdout",
     "output_type": "stream",
     "text": [
      "nomal_model\n",
      "Average Fit Time : 0.14463043212890625\n",
      "Average Score Time : 0.004154777526855469\n",
      "Average Test Score : 0.33943854947553576\n",
      "\n",
      "bagging_model\n",
      "Average Fit Time : 1.173504114151001\n",
      "Average Score Time : 0.007498502731323242\n",
      "Average Test Score : 0.6152209500812342\n"
     ]
    }
   ],
   "source": [
    "cross_val = cross_validate(\n",
    "    estimator=model, X=california.data, y=california.target, cv=5\n",
    ")\n",
    "print(\"nomal_model\")\n",
    "print(f\"Average Fit Time : {cross_val['fit_time'].mean()}\")\n",
    "print(f\"Average Score Time : {cross_val['score_time'].mean()}\")\n",
    "print(f\"Average Test Score : {cross_val['test_score'].mean()}\")\n",
    "\n",
    "cross_val = cross_validate(\n",
    "    estimator=bagging_model, X=california.data, y=california.target, cv=5\n",
    ")\n",
    "print(\"\\nbagging_model\")\n",
    "print(f\"Average Fit Time : {cross_val['fit_time'].mean()}\")\n",
    "print(f\"Average Score Time : {cross_val['score_time'].mean()}\")\n",
    "print(f\"Average Test Score : {cross_val['test_score'].mean()}\")"
   ]
  },
  {
   "cell_type": "markdown",
   "id": "fbc2f1bc",
   "metadata": {},
   "source": [
    "### diabetes 데이터로 비교"
   ]
  },
  {
   "cell_type": "code",
   "execution_count": 50,
   "id": "685eb2dd",
   "metadata": {},
   "outputs": [
    {
     "name": "stdout",
     "output_type": "stream",
     "text": [
      "nomal_model\n",
      "Average Fit Time : 0.0033776283264160155\n",
      "Average Score Time : 0.0009706020355224609\n",
      "Average Test Score : -0.16311202214955203\n",
      "\n",
      "bagging_model\n",
      "Average Fit Time : 0.0256439208984375\n",
      "Average Score Time : 0.0038732051849365234\n",
      "Average Test Score : 0.3799543564357101\n"
     ]
    }
   ],
   "source": [
    "cross_val = cross_validate(estimator=model, X=diabetes.data, y=diabetes.target, cv=5)\n",
    "print(\"nomal_model\")\n",
    "print(f\"Average Fit Time : {cross_val['fit_time'].mean()}\")\n",
    "print(f\"Average Score Time : {cross_val['score_time'].mean()}\")\n",
    "print(f\"Average Test Score : {cross_val['test_score'].mean()}\")\n",
    "\n",
    "cross_val = cross_validate(\n",
    "    estimator=bagging_model, X=diabetes.data, y=diabetes.target, cv=5\n",
    ")\n",
    "print(\"\\nbagging_model\")\n",
    "print(f\"Average Fit Time : {cross_val['fit_time'].mean()}\")\n",
    "print(f\"Average Score Time : {cross_val['score_time'].mean()}\")\n",
    "print(f\"Average Test Score : {cross_val['test_score'].mean()}\")"
   ]
  }
 ],
 "metadata": {
  "kernelspec": {
   "display_name": "openai_api_part1",
   "language": "python",
   "name": "python3"
  },
  "language_info": {
   "codemirror_mode": {
    "name": "ipython",
    "version": 3
   },
   "file_extension": ".py",
   "mimetype": "text/x-python",
   "name": "python",
   "nbconvert_exporter": "python",
   "pygments_lexer": "ipython3",
   "version": "3.12.3"
  }
 },
 "nbformat": 4,
 "nbformat_minor": 5
}
