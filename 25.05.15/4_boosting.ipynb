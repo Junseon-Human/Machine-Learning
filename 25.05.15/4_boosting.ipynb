{
 "cells": [
  {
   "cell_type": "code",
   "execution_count": 24,
   "id": "d2d3667e",
   "metadata": {},
   "outputs": [],
   "source": [
    "from sklearn.datasets import load_iris, load_wine, load_breast_cancer, load_diabetes\n",
    "from sklearn.datasets import fetch_california_housing\n",
    "from sklearn.preprocessing import StandardScaler\n",
    "from sklearn.pipeline import make_pipeline\n",
    "from sklearn.model_selection import cross_validate\n",
    "\n",
    "from sklearn.ensemble import AdaBoostClassifier, GradientBoostingClassifier\n",
    "from sklearn.ensemble import AdaBoostRegressor, GradientBoostingRegressor\n",
    "\n",
    "iris = load_iris()\n",
    "wine = load_wine()\n",
    "cancer = load_breast_cancer()\n",
    "diabetes = load_diabetes()\n",
    "california = fetch_california_housing()"
   ]
  },
  {
   "cell_type": "markdown",
   "id": "77a6234d",
   "metadata": {},
   "source": [
    "# ADA Boost Classifier"
   ]
  },
  {
   "cell_type": "markdown",
   "id": "04dec615",
   "metadata": {},
   "source": [
    "### iris"
   ]
  },
  {
   "cell_type": "code",
   "execution_count": 48,
   "id": "9f86da3e",
   "metadata": {},
   "outputs": [
    {
     "name": "stdout",
     "output_type": "stream",
     "text": [
      "Average Fit Time : 0.04586796760559082\n",
      "Average Score Time : 0.005103397369384766\n",
      "Average Test Score : 0.9533333333333334\n",
      "Average Test Score : 0.93\n"
     ]
    }
   ],
   "source": [
    "model = make_pipeline(StandardScaler(), AdaBoostClassifier())\n",
    "\n",
    "cross_val = cross_validate(\n",
    "    estimator=model,\n",
    "    X=iris.data,\n",
    "    y=iris.target,\n",
    "    cv=5,\n",
    "    scoring=[\"accuracy\", \"r2\"],\n",
    ")\n",
    "print(f\"Average Fit Time : {cross_val['fit_time'].mean()}\")\n",
    "print(f\"Average Score Time : {cross_val['score_time'].mean()}\")\n",
    "print(f\"Average Test Score : {cross_val['test_accuracy'].mean()}\")\n",
    "print(f\"Average Test Score : {cross_val['test_r2'].mean()}\")"
   ]
  },
  {
   "cell_type": "markdown",
   "id": "151c4a41",
   "metadata": {},
   "source": [
    "### wine"
   ]
  },
  {
   "cell_type": "code",
   "execution_count": 4,
   "id": "ba3790a3",
   "metadata": {},
   "outputs": [
    {
     "name": "stdout",
     "output_type": "stream",
     "text": [
      "Average Fit Time : 0.05181269645690918\n",
      "Average Score Time : 0.0037732601165771486\n",
      "Average Test Score : 0.9333333333333332\n"
     ]
    }
   ],
   "source": [
    "cross_val = cross_validate(estimator=model, X=wine.data, y=wine.target, cv=5)\n",
    "print(f\"Average Fit Time : {cross_val['fit_time'].mean()}\")\n",
    "print(f\"Average Score Time : {cross_val['score_time'].mean()}\")\n",
    "print(f\"Average Test Score : {cross_val['test_score'].mean()}\")"
   ]
  },
  {
   "cell_type": "markdown",
   "id": "cecafefb",
   "metadata": {},
   "source": [
    "### breast cancer"
   ]
  },
  {
   "cell_type": "code",
   "execution_count": 5,
   "id": "aaef95d3",
   "metadata": {},
   "outputs": [
    {
     "name": "stdout",
     "output_type": "stream",
     "text": [
      "Average Fit Time : 0.10449695587158203\n",
      "Average Score Time : 0.008821821212768555\n",
      "Average Test Score : 0.9683744760130415\n"
     ]
    }
   ],
   "source": [
    "cross_val = cross_validate(estimator=model, X=cancer.data, y=cancer.target, cv=5)\n",
    "print(f\"Average Fit Time : {cross_val['fit_time'].mean()}\")\n",
    "print(f\"Average Score Time : {cross_val['score_time'].mean()}\")\n",
    "print(f\"Average Test Score : {cross_val['test_score'].mean()}\")"
   ]
  },
  {
   "cell_type": "markdown",
   "id": "32f9e3bf",
   "metadata": {},
   "source": [
    "# ADA BOOST Regressor"
   ]
  },
  {
   "cell_type": "code",
   "execution_count": 42,
   "id": "12226f4b",
   "metadata": {},
   "outputs": [],
   "source": [
    "model = make_pipeline(StandardScaler(), AdaBoostRegressor())"
   ]
  },
  {
   "cell_type": "markdown",
   "id": "afccbbaa",
   "metadata": {},
   "source": [
    "### california"
   ]
  },
  {
   "cell_type": "code",
   "execution_count": 47,
   "id": "5d2181f4",
   "metadata": {},
   "outputs": [
    {
     "name": "stdout",
     "output_type": "stream",
     "text": [
      "Average Fit Time : 0.7236931800842286\n",
      "Average Score Time : 0.010268688201904297\n",
      "Average Test MSE : 0.8451709539857492\n",
      "Average Test R2  : 0.3096666201703485\n"
     ]
    }
   ],
   "source": [
    "cross_val = cross_validate(\n",
    "    estimator=model,\n",
    "    X=california.data,\n",
    "    y=california.target,\n",
    "    cv=5,\n",
    "    scoring=[\"neg_mean_squared_error\", \"r2\"],\n",
    ")\n",
    "\n",
    "print(f\"Average Fit Time : {cross_val['fit_time'].mean()}\")\n",
    "print(f\"Average Score Time : {cross_val['score_time'].mean()}\")\n",
    "print(f\"Average Test MSE : {-cross_val['test_neg_mean_squared_error'].mean()}\")\n",
    "print(f\"Average Test R2  : {cross_val['test_r2'].mean()}\")"
   ]
  },
  {
   "cell_type": "code",
   "execution_count": 40,
   "id": "0aabc73b",
   "metadata": {},
   "outputs": [
    {
     "name": "stdout",
     "output_type": "stream",
     "text": [
      "Average Fit Time : 0.6940759181976318\n",
      "Average Score Time : 0.0037984848022460938\n",
      "Average Test Score : 0.33584869526224403\n"
     ]
    }
   ],
   "source": [
    "cross_val = cross_validate(\n",
    "    estimator=model,\n",
    "    X=california.data,\n",
    "    y=california.target,\n",
    "    cv=5,\n",
    ")\n",
    "\n",
    "print(f\"Average Fit Time : {cross_val['fit_time'].mean()}\")\n",
    "print(f\"Average Score Time : {cross_val['score_time'].mean()}\")\n",
    "print(f\"Average Test Score : {cross_val['test_score'].mean()}\")"
   ]
  },
  {
   "cell_type": "markdown",
   "id": "fb6c8cf1",
   "metadata": {},
   "source": [
    "### diabetes"
   ]
  },
  {
   "cell_type": "code",
   "execution_count": 10,
   "id": "a8ea522b",
   "metadata": {},
   "outputs": [
    {
     "name": "stdout",
     "output_type": "stream",
     "text": [
      "Average Fit Time : 0.05227665901184082\n",
      "Average Score Time : 0.001823568344116211\n",
      "Average Test Score : 0.4188256697215425\n"
     ]
    }
   ],
   "source": [
    "cross_val = cross_validate(estimator=model, X=diabetes.data, y=diabetes.target, cv=5)\n",
    "\n",
    "print(f\"Average Fit Time : {cross_val['fit_time'].mean()}\")\n",
    "print(f\"Average Score Time : {cross_val['score_time'].mean()}\")\n",
    "print(f\"Average Test Score : {cross_val['test_score'].mean()}\")"
   ]
  },
  {
   "cell_type": "markdown",
   "id": "ddbe8c4b",
   "metadata": {},
   "source": [
    "# Gradient Boosting Classifier"
   ]
  },
  {
   "cell_type": "code",
   "execution_count": 13,
   "id": "3f400ba0",
   "metadata": {},
   "outputs": [],
   "source": [
    "model = make_pipeline(StandardScaler(), GradientBoostingClassifier())"
   ]
  },
  {
   "cell_type": "markdown",
   "id": "75980513",
   "metadata": {},
   "source": [
    "### iris"
   ]
  },
  {
   "cell_type": "code",
   "execution_count": 14,
   "id": "3dd8a691",
   "metadata": {},
   "outputs": [
    {
     "name": "stdout",
     "output_type": "stream",
     "text": [
      "Average Fit Time : 0.046938085556030275\n",
      "Average Score Time : 0.001604175567626953\n",
      "Average Test Score : 0.9533333333333334\n"
     ]
    }
   ],
   "source": [
    "model = make_pipeline(StandardScaler(), AdaBoostClassifier())\n",
    "\n",
    "cross_val = cross_validate(estimator=model, X=iris.data, y=iris.target, cv=5)\n",
    "print(f\"Average Fit Time : {cross_val['fit_time'].mean()}\")\n",
    "print(f\"Average Score Time : {cross_val['score_time'].mean()}\")\n",
    "print(f\"Average Test Score : {cross_val['test_score'].mean()}\")"
   ]
  },
  {
   "cell_type": "markdown",
   "id": "23620d90",
   "metadata": {},
   "source": [
    "### wine"
   ]
  },
  {
   "cell_type": "code",
   "execution_count": 15,
   "id": "ba6f8e3c",
   "metadata": {},
   "outputs": [
    {
     "name": "stdout",
     "output_type": "stream",
     "text": [
      "Average Fit Time : 0.048292922973632815\n",
      "Average Score Time : 0.0057353973388671875\n",
      "Average Test Score : 0.9333333333333332\n"
     ]
    }
   ],
   "source": [
    "cross_val = cross_validate(estimator=model, X=wine.data, y=wine.target, cv=5)\n",
    "print(f\"Average Fit Time : {cross_val['fit_time'].mean()}\")\n",
    "print(f\"Average Score Time : {cross_val['score_time'].mean()}\")\n",
    "print(f\"Average Test Score : {cross_val['test_score'].mean()}\")"
   ]
  },
  {
   "cell_type": "markdown",
   "id": "045a59d5",
   "metadata": {},
   "source": [
    "### breast cancer"
   ]
  },
  {
   "cell_type": "code",
   "execution_count": 16,
   "id": "b367c63b",
   "metadata": {},
   "outputs": [
    {
     "name": "stdout",
     "output_type": "stream",
     "text": [
      "Average Fit Time : 0.10869154930114747\n",
      "Average Score Time : 0.00520792007446289\n",
      "Average Test Score : 0.9666200900481291\n"
     ]
    }
   ],
   "source": [
    "cross_val = cross_validate(estimator=model, X=cancer.data, y=cancer.target, cv=5)\n",
    "print(f\"Average Fit Time : {cross_val['fit_time'].mean()}\")\n",
    "print(f\"Average Score Time : {cross_val['score_time'].mean()}\")\n",
    "print(f\"Average Test Score : {cross_val['test_score'].mean()}\")"
   ]
  },
  {
   "cell_type": "markdown",
   "id": "005cfae6",
   "metadata": {},
   "source": [
    "# Gradient Tree Boostring Regressor"
   ]
  },
  {
   "cell_type": "code",
   "execution_count": 17,
   "id": "bca1e2e8",
   "metadata": {},
   "outputs": [],
   "source": [
    "model = make_pipeline(StandardScaler(), GradientBoostingRegressor())"
   ]
  },
  {
   "cell_type": "markdown",
   "id": "d95f555a",
   "metadata": {},
   "source": [
    "### california"
   ]
  },
  {
   "cell_type": "code",
   "execution_count": 18,
   "id": "1cb8de52",
   "metadata": {},
   "outputs": [
    {
     "name": "stdout",
     "output_type": "stream",
     "text": [
      "Average Fit Time : 2.751428174972534\n",
      "Average Score Time : 0.0020200252532958985\n",
      "Average Test Score : 0.6698764508987038\n"
     ]
    }
   ],
   "source": [
    "cross_val = cross_validate(\n",
    "    estimator=model, X=california.data, y=california.target, cv=5\n",
    ")\n",
    "\n",
    "print(f\"Average Fit Time : {cross_val['fit_time'].mean()}\")\n",
    "print(f\"Average Score Time : {cross_val['score_time'].mean()}\")\n",
    "print(f\"Average Test Score : {cross_val['test_score'].mean()}\")"
   ]
  },
  {
   "cell_type": "markdown",
   "id": "bb9f2ab9",
   "metadata": {},
   "source": [
    "### diabetes"
   ]
  },
  {
   "cell_type": "code",
   "execution_count": 20,
   "id": "b0cc50a0",
   "metadata": {},
   "outputs": [
    {
     "name": "stdout",
     "output_type": "stream",
     "text": [
      "Average Fit Time : 0.07282509803771972\n",
      "Average Score Time : 0.0005566120147705078\n",
      "Average Test Score : 0.40871625429435243\n"
     ]
    }
   ],
   "source": [
    "cross_val = cross_validate(estimator=model, X=diabetes.data, y=diabetes.target, cv=5)\n",
    "\n",
    "print(f\"Average Fit Time : {cross_val['fit_time'].mean()}\")\n",
    "print(f\"Average Score Time : {cross_val['score_time'].mean()}\")\n",
    "print(f\"Average Test Score : {cross_val['test_score'].mean()}\")"
   ]
  }
 ],
 "metadata": {
  "kernelspec": {
   "display_name": "openai_api_part1",
   "language": "python",
   "name": "python3"
  },
  "language_info": {
   "codemirror_mode": {
    "name": "ipython",
    "version": 3
   },
   "file_extension": ".py",
   "mimetype": "text/x-python",
   "name": "python",
   "nbconvert_exporter": "python",
   "pygments_lexer": "ipython3",
   "version": "3.12.3"
  }
 },
 "nbformat": 4,
 "nbformat_minor": 5
}
