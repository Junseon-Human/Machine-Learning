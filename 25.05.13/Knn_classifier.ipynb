{
 "cells": [
  {
   "cell_type": "markdown",
   "id": "9e3f866a",
   "metadata": {},
   "source": [
    "## [KNeighborsClassifier 주요 파라미터 설명]\n",
    "* n_neighbors: 사용할 이웃의 수 (K값). 기본값은 5.\n",
    "* weights: 이웃의 가중치 방식. 'uniform'은 동일 가중치, 'distance'는 가까운 이웃에 더 큰 가중치를 줌.\n",
    "* algorithm: 이웃 탐색 알고리즘. 'auto', 'ball_tree', 'kd_tree', 'brute' 중 선택.\n",
    "* p: 거리 측정 방식. p=1이면 맨해튼 거리, p=2이면 유클리드 거리. metric='minkowski'일 때 의미 있음.\n",
    "* metric: 거리 계산 방식. 기본은 'minkowski'.\n",
    "* leaf_size: KDTree, BallTree에서의 성능 관련 파라미터. 대개 기본값 사용."
   ]
  },
  {
   "cell_type": "markdown",
   "id": "92dd91c9",
   "metadata": {},
   "source": [
    "## Iris 데이터로 KNN분류"
   ]
  },
  {
   "cell_type": "code",
   "execution_count": null,
   "id": "67866cb8",
   "metadata": {},
   "outputs": [
    {
     "name": "stdout",
     "output_type": "stream",
     "text": [
      "              precision    recall  f1-score   support\n",
      "\n",
      "           0       1.00      1.00      1.00        10\n",
      "           1       1.00      1.00      1.00        10\n",
      "           2       1.00      1.00      1.00        10\n",
      "\n",
      "    accuracy                           1.00        30\n",
      "   macro avg       1.00      1.00      1.00        30\n",
      "weighted avg       1.00      1.00      1.00        30\n",
      "\n",
      "1.0\n"
     ]
    }
   ],
   "source": [
    "from sklearn.datasets import load_iris\n",
    "from sklearn.model_selection import train_test_split\n",
    "from sklearn.neighbors import KNeighborsClassifier\n",
    "from sklearn.metrics import accuracy_score\n",
    "from sklearn.metrics import classification_report\n",
    "\n",
    "# IRIS 데이터셋 로드\n",
    "iris = load_iris()\n",
    "\n",
    "# 특성과 타겟 데이터 분할\n",
    "X = iris.data\n",
    "y = iris.target\n",
    "\n",
    "# 학습 데이터와 테스트 데이터로 분할\n",
    "X_train, X_test, y_train, y_test = train_test_split(\n",
    "    X, y, test_size=0.2, random_state=42\n",
    ")\n",
    "\n",
    "# KNN 모델 초기화 및 파라미터 설정\n",
    "# 현재 파라미터는 모두 기본값임\n",
    "knn = KNeighborsClassifier(n_neighbors=5, weights=\"uniform\", algorithm=\"auto\", n_jobs=1)\n",
    "\n",
    "# 모델 학습\n",
    "knn.fit(X_train, y_train)\n",
    "\n",
    "# 분류 결과 예측\n",
    "y_pred = knn.predict(X_test)\n",
    "\n",
    "# 분류 결과 평가\n",
    "report = classification_report(y_test, y_pred)\n",
    "print(report)\n",
    "accu_score = accuracy_score(y_test, y_pred)\n",
    "print(accu_score)"
   ]
  },
  {
   "cell_type": "code",
   "execution_count": 33,
   "id": "1aa29aff",
   "metadata": {},
   "outputs": [
    {
     "data": {
      "image/png": "[encoded data removed]",
      "text/plain": [
       "<Figure size 640x480 with 2 Axes>"
      ]
     },
     "metadata": {},
     "output_type": "display_data"
    }
   ],
   "source": [
    "from sklearn.metrics import confusion_matrix\n",
    "import seaborn as sns\n",
    "import matplotlib.pyplot as plt\n",
    "\n",
    "cm = confusion_matrix(y_test, y_pred)\n",
    "sns.heatmap(cm, annot=True, fmt=\"d\", cmap=\"Blues\")\n",
    "plt.xlabel(\"Predicted\")\n",
    "plt.ylabel(\"Actual\")\n",
    "plt.title(\"Confusion Matrix\")\n",
    "plt.show()"
   ]
  },
  {
   "cell_type": "markdown",
   "id": "20120711",
   "metadata": {},
   "source": [
    "## 그리드 서치를 사용하여 최적 파라미터 값 찾기"
   ]
  },
  {
   "cell_type": "code",
   "execution_count": 7,
   "id": "53c94087",
   "metadata": {},
   "outputs": [
    {
     "name": "stdout",
     "output_type": "stream",
     "text": [
      "Best Parameters: {'algorithm': 'ball_tree', 'n_neighbors': 5, 'weights': 'uniform'}\n",
      "Classification Report:\n",
      "              precision    recall  f1-score   support\n",
      "\n",
      "           0       1.00      1.00      1.00        10\n",
      "           1       1.00      1.00      1.00         9\n",
      "           2       1.00      1.00      1.00        11\n",
      "\n",
      "    accuracy                           1.00        30\n",
      "   macro avg       1.00      1.00      1.00        30\n",
      "weighted avg       1.00      1.00      1.00        30\n",
      "\n"
     ]
    }
   ],
   "source": [
    "from sklearn.model_selection import GridSearchCV\n",
    "\n",
    "param_grid = {\n",
    "    \"n_neighbors\": [1, 3, 5],  # 이웃의 수\n",
    "    \"weights\": [\"uniform\", \"distance\"],\n",
    "    \"algorithm\": [\"ball_tree\", \"kd_tree\", \"brute\"],  # 가중치 함수\n",
    "}\n",
    "\n",
    "# GridSearchCV를 사용하여 최적 파라미터 탐색\n",
    "grid_search = GridSearchCV(knn, param_grid, cv=5)\n",
    "grid_search.fit(X, y)\n",
    "\n",
    "# 최적 파라미터 확인\n",
    "best_params = grid_search.best_params_\n",
    "print(f\"Best Parameters: {best_params}\")\n",
    "\n",
    "# 최적 파라미터로 훈련된 모델 사용하여 예측\n",
    "y_pred = grid_search.predict(X_test)\n",
    "\n",
    "# 분류 결과 평가\n",
    "report = classification_report(y_test, y_pred)\n",
    "print(f\"Classification Report:\\n{report}\")"
   ]
  },
  {
   "cell_type": "markdown",
   "id": "76eb8109",
   "metadata": {},
   "source": [
    "## Breast Cancer 데이터로 Knn 분류"
   ]
  },
  {
   "cell_type": "code",
   "execution_count": 35,
   "id": "c1947795",
   "metadata": {},
   "outputs": [
    {
     "name": "stdout",
     "output_type": "stream",
     "text": [
      "              precision    recall  f1-score   support\n",
      "\n",
      "           0       1.00      0.88      0.94        43\n",
      "           1       0.93      1.00      0.97        71\n",
      "\n",
      "    accuracy                           0.96       114\n",
      "   macro avg       0.97      0.94      0.95       114\n",
      "weighted avg       0.96      0.96      0.96       114\n",
      "\n"
     ]
    }
   ],
   "source": [
    "from sklearn.datasets import load_breast_cancer\n",
    "\n",
    "# Beast Cancer 데이터넷 로드\n",
    "breast_cancer = load_breast_cancer()\n",
    "\n",
    "# 특성 데이터와 타겟 데이터\n",
    "X = breast_cancer.data\n",
    "y = breast_cancer.target\n",
    "\n",
    "# 데이터 분할\n",
    "X_train, X_test, y_train, y_test = train_test_split(\n",
    "    X, y, test_size=0.2, random_state=42\n",
    ")\n",
    "\n",
    "# KNN 모델 초기화\n",
    "knn = KNeighborsClassifier(\n",
    "    n_neighbors=5,\n",
    "    weights=\"uniform\",\n",
    "    algorithm=\"auto\",\n",
    "    leaf_size=30,\n",
    "    p=2,\n",
    "    metric=\"minkowski\",\n",
    "    n_jobs=None,\n",
    ")\n",
    "\n",
    "# 모델 학습\n",
    "knn.fit(X_train, y_train)\n",
    "\n",
    "# 분류 결과 예측\n",
    "y_pred = knn.predict(X_test)\n",
    "\n",
    "# 평가 리포트 출력\n",
    "report = classification_report(y_test, y_pred)\n",
    "print(report)"
   ]
  },
  {
   "cell_type": "markdown",
   "id": "5235e4e2",
   "metadata": {},
   "source": [
    "## 해당 데이터 GridSearch 로 파라미터 최적화"
   ]
  },
  {
   "cell_type": "code",
   "execution_count": 40,
   "id": "ab634e52",
   "metadata": {},
   "outputs": [
    {
     "name": "stdout",
     "output_type": "stream",
     "text": [
      "Best Parameters : {'algorithm': 'ball_tree', 'n_neighbors': 5, 'weights': 'distance'}\n",
      "Classification Report:\n",
      "              precision    recall  f1-score   support\n",
      "\n",
      "           0       1.00      1.00      1.00        43\n",
      "           1       1.00      1.00      1.00        71\n",
      "\n",
      "    accuracy                           1.00       114\n",
      "   macro avg       1.00      1.00      1.00       114\n",
      "weighted avg       1.00      1.00      1.00       114\n",
      "\n"
     ]
    }
   ],
   "source": [
    "param_grid = {\n",
    "    \"n_neighbors\": [3, 5, 7],\n",
    "    \"weights\": [\"uniform\", \"distance\"],\n",
    "    \"algorithm\": [\"ball_tree\", \"kd_tree\", \"brute\"],\n",
    "}\n",
    "\n",
    "# GridSearchCV를 사용하여 최적 파라미터 탐색\n",
    "grid_search = GridSearchCV(knn, param_grid, cv=5)\n",
    "grid_search.fit(X, y)\n",
    "\n",
    "# 최적 파라미터 확인\n",
    "best_params = grid_search.best_params_\n",
    "print(f\"Best Parameters : {best_params}\")\n",
    "\n",
    "# 최적 파라미터로 훈련된 모델 사용하여 에측\n",
    "y_pred = grid_search.predict(X_test)\n",
    "# 분류 결과 평가\n",
    "report = classification_report(y_test, y_pred)\n",
    "print(f\"Classification Report:\\n{report}\")"
   ]
  }
 ],
 "metadata": {
  "kernelspec": {
   "display_name": "openai_api_part1",
   "language": "python",
   "name": "python3"
  },
  "language_info": {
   "codemirror_mode": {
    "name": "ipython",
    "version": 3
   },
   "file_extension": ".py",
   "mimetype": "text/x-python",
   "name": "python",
   "nbconvert_exporter": "python",
   "pygments_lexer": "ipython3",
   "version": "3.12.3"
  }
 },
 "nbformat": 4,
 "nbformat_minor": 5
}
